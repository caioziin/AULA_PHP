{
  "nbformat": 4,
  "nbformat_minor": 0,
  "metadata": {
    "colab": {
      "provenance": [],
      "include_colab_link": true
    },
    "kernelspec": {
      "name": "python3",
      "display_name": "Python 3"
    },
    "language_info": {
      "name": "python"
    }
  },
  "cells": [
    {
      "cell_type": "markdown",
      "metadata": {
        "id": "view-in-github",
        "colab_type": "text"
      },
      "source": [
        "<a href=\"https://colab.research.google.com/github/caioziin/AULA_PHP/blob/main/Fun%C3%A7%C3%A3oDef.ipynb\" target=\"_parent\"><img src=\"https://colab.research.google.com/assets/colab-badge.svg\" alt=\"Open In Colab\"/></a>"
      ]
    },
    {
      "cell_type": "code",
      "execution_count": null,
      "metadata": {
        "id": "SwiRU8FktQWZ",
        "colab": {
          "base_uri": "https://localhost:8080/"
        },
        "outputId": "67b2de9c-1232-46b5-a8d7-9be181bca082"
      },
      "outputs": [
        {
          "output_type": "stream",
          "name": "stdout",
          "text": [
            "Chute um número entre 0 e 100: 18\n",
            "Chute um número entre 18 e 100: 56\n",
            "Chute um número entre 18 e 56: 42\n",
            "Chute um número entre 18 e 42: 22\n",
            "Chute um número entre 22 e 42: 35\n",
            "Chute um número entre 22 e 35: 27\n",
            "Chute um número entre 22 e 27: 23\n",
            "Acertou! 7 tentativas!\n"
          ]
        }
      ],
      "source": [
        "import random\n",
        "\n",
        "num = random.randrange(101)\n",
        "minimo = 0\n",
        "maximo = 100\n",
        "pitaco = int(input(f'Chute um número entre {minimo} e {maximo}: '))\n",
        "cont = 1\n",
        "\n",
        "while(num != pitaco):\n",
        "  if(pitaco > num):\n",
        "    maximo = pitaco\n",
        "  else:\n",
        "    minimo = pitaco\n",
        "  pitaco = int(input(f'Chute um número entre {minimo} e {maximo}: '))\n",
        "  cont+=1\n",
        "\n",
        "print(f'Acertou! {cont} tentativas!')\n"
      ]
    },
    {
      "cell_type": "code",
      "source": [
        "#Declaração da função\n",
        "def primeiraFuncao():\n",
        "  print('Minha primeira função!')\n",
        "\n",
        "#Chamando a função\n",
        "primeiraFuncao()"
      ],
      "metadata": {
        "colab": {
          "base_uri": "https://localhost:8080/"
        },
        "id": "uzHyXzOr233j",
        "outputId": "3cca0921-12ae-4d27-effe-1778fb1e9cd3"
      },
      "execution_count": null,
      "outputs": [
        {
          "output_type": "stream",
          "name": "stdout",
          "text": [
            "Minha primeira função!\n"
          ]
        }
      ]
    },
    {
      "cell_type": "code",
      "source": [
        "def pronomeTratam(pronome):\n",
        "  print(pronome, \"Caio\" )"
      ],
      "metadata": {
        "id": "W7EB9jNR3prZ"
      },
      "execution_count": null,
      "outputs": []
    },
    {
      "cell_type": "code",
      "source": [
        "pronomeTratam('Doutor')\n",
        "pronomeTratam('Ilmo')\n",
        "pronomeTratam('Seu')"
      ],
      "metadata": {
        "colab": {
          "base_uri": "https://localhost:8080/"
        },
        "id": "W5Oh4ITd4m9y",
        "outputId": "3ddaa92c-a4d4-4221-e3cf-669bf64ed698"
      },
      "execution_count": null,
      "outputs": [
        {
          "output_type": "stream",
          "name": "stdout",
          "text": [
            "Doutor Caio\n",
            "Ilmo Caio\n",
            "Seu Caio\n"
          ]
        }
      ]
    },
    {
      "cell_type": "code",
      "source": [
        "#Uma função deve ser chamada com o número certinho\n",
        "def boasVindas(nome, cargo):\n",
        "  print('Olá, '+ cargo + ' '+ nome)"
      ],
      "metadata": {
        "id": "dT-B9smn5zR1"
      },
      "execution_count": null,
      "outputs": []
    },
    {
      "cell_type": "code",
      "source": [
        "boasVindas('Amaralina', 'Engenheira')\n",
        "boasVindas('Jorge', 'Carimbador')\n",
        "boasVindas('Maria', 'Sargento')\n",
        "#Experimente passar apenas um dos parâmetros"
      ],
      "metadata": {
        "colab": {
          "base_uri": "https://localhost:8080/"
        },
        "id": "lqLb81rs6O8j",
        "outputId": "a90eaa68-21cf-43a2-82e3-5ff88448e088"
      },
      "execution_count": null,
      "outputs": [
        {
          "output_type": "stream",
          "name": "stdout",
          "text": [
            "Olá, EngenheiraAmaralina\n",
            "Olá, CarimbadorJorge\n",
            "Olá, SargentoMaria\n"
          ]
        }
      ]
    },
    {
      "cell_type": "code",
      "source": [
        "def funcaoSemnome(nome, anoNascim):\n",
        "  idade = 2023 - anoNascim\n",
        "  print(nome, idade)"
      ],
      "metadata": {
        "id": "NIGCRoGs7jSU"
      },
      "execution_count": null,
      "outputs": []
    },
    {
      "cell_type": "code",
      "source": [
        "funcaoSemnome('Caio', 2002)"
      ],
      "metadata": {
        "colab": {
          "base_uri": "https://localhost:8080/"
        },
        "id": "XISyPNq48B5q",
        "outputId": "b23fb92b-0c8b-4961-ea83-8756fc940243"
      },
      "execution_count": null,
      "outputs": [
        {
          "output_type": "stream",
          "name": "stdout",
          "text": [
            "Caio 21\n"
          ]
        }
      ]
    },
    {
      "cell_type": "code",
      "source": [
        "def somaNotas(*notas):\n",
        "  soma = 0 \n",
        "  for nota in notas:\n",
        "    soma += nota\n",
        "  print(soma)"
      ],
      "metadata": {
        "id": "2A9unXWr8poQ"
      },
      "execution_count": null,
      "outputs": []
    },
    {
      "cell_type": "code",
      "source": [
        "somaNotas(8, 5, 3, 7, 2, 10)"
      ],
      "metadata": {
        "colab": {
          "base_uri": "https://localhost:8080/"
        },
        "id": "Xr9vVJ9i9pso",
        "outputId": "3dd101ef-9776-4f9a-b4f6-e05d25255bd0"
      },
      "execution_count": null,
      "outputs": [
        {
          "output_type": "stream",
          "name": "stdout",
          "text": [
            "35\n"
          ]
        }
      ]
    },
    {
      "cell_type": "code",
      "source": [
        "def media(*notas):\n",
        "  soma = 0 \n",
        "  for nota in notas:\n",
        "    soma += nota\n",
        "  print(soma / len(notas))"
      ],
      "metadata": {
        "id": "H8yHpbo8_Wbp"
      },
      "execution_count": null,
      "outputs": []
    },
    {
      "cell_type": "code",
      "source": [
        "media(8, 5, 3, 7, 2, 10)"
      ],
      "metadata": {
        "colab": {
          "base_uri": "https://localhost:8080/"
        },
        "id": "1OOM2p0__rEA",
        "outputId": "6020dfc8-4236-4573-8d46-b1fab88967e7"
      },
      "execution_count": null,
      "outputs": [
        {
          "output_type": "stream",
          "name": "stdout",
          "text": [
            "5.833333333333333\n"
          ]
        }
      ]
    },
    {
      "cell_type": "code",
      "source": [
        "#Valor de parâmetro padrão\n",
        "def nacionalidade(country = 'Cuba'):\n",
        "  print('Eu nasci em: '+ country)"
      ],
      "metadata": {
        "id": "bBE7rbxgAVbf"
      },
      "execution_count": null,
      "outputs": []
    },
    {
      "cell_type": "code",
      "source": [
        "nacionalidade('Brasil')\n",
        "nacionalidade('França')\n",
        "nacionalidade('vietnã')\n",
        "nacionalidade()"
      ],
      "metadata": {
        "colab": {
          "base_uri": "https://localhost:8080/"
        },
        "id": "7pxkaaZsA2nV",
        "outputId": "41b28827-df34-4105-cbf1-128232e4f9f7"
      },
      "execution_count": null,
      "outputs": [
        {
          "output_type": "stream",
          "name": "stdout",
          "text": [
            "Eu nasci em: Brasil\n",
            "Eu nasci em: França\n",
            "Eu nasci em: vietnã\n",
            "Eu nasci em: Cuba\n"
          ]
        }
      ]
    },
    {
      "cell_type": "code",
      "source": [
        "def imc(peso, altura):\n",
        "  return peso/altura**2\n",
        " "
      ],
      "metadata": {
        "id": "NrRYNGqQBx86"
      },
      "execution_count": null,
      "outputs": []
    },
    {
      "cell_type": "code",
      "source": [
        "def situacaoPeso(imc):\n",
        " if(imc < 18.5):\n",
        "   print('Abaixo do peso normal')\n",
        " elif(imc < 24.9):\n",
        "   print('Peso normal')\n",
        " else:\n",
        "   print('Obesidade')"
      ],
      "metadata": {
        "id": "C7VCEu2TC9dQ"
      },
      "execution_count": null,
      "outputs": []
    },
    {
      "cell_type": "code",
      "source": [
        "situacaoPeso(imc(83, 1.65))"
      ],
      "metadata": {
        "colab": {
          "base_uri": "https://localhost:8080/"
        },
        "id": "KuLtJMcGD8IH",
        "outputId": "bfcbf0f1-8ff9-4d36-e073-0a549fd48e15"
      },
      "execution_count": null,
      "outputs": [
        {
          "output_type": "stream",
          "name": "stdout",
          "text": [
            "Obesidade\n"
          ]
        }
      ]
    }
  ]
}